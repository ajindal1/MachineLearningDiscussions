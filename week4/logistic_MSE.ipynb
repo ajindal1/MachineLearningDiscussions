{
 "cells": [
  {
   "cell_type": "markdown",
   "metadata": {},
   "source": [
    "# Logistic MSE Classifier\n",
    "\n",
    "In this notebook we will learn how to code up a logistic MSE from scratch."
   ]
  },
  {
   "cell_type": "code",
   "execution_count": 1,
   "metadata": {},
   "outputs": [],
   "source": [
    "# Import all required libraries\n",
    "from __future__ import division # For python 2.*\n",
    "\n",
    "import numpy as np\n",
    "import matplotlib.pyplot as plt\n",
    "import mltools as ml\n",
    "\n",
    "np.random.seed(0)\n",
    "%matplotlib inline"
   ]
  },
  {
   "cell_type": "markdown",
   "metadata": {},
   "source": [
    "## Loading the Data\n",
    "We will use the same data set from the previous discussion. Because we are going to use the sigmoid function this time we will use 0 and 1 as classes."
   ]
  },
  {
   "cell_type": "code",
   "execution_count": 2,
   "metadata": {},
   "outputs": [
    {
     "name": "stderr",
     "output_type": "stream",
     "text": [
      "/Users/abhishekjindal/Desktop/UCI_courses/Fall_2018/CS178/MachineLearningDiscussions/week4/mltools/plot.py:42: MatplotlibDeprecationWarning: pyplot.hold is deprecated.\n",
      "    Future behavior will be consistent with the long-time default:\n",
      "    plot commands add elements without first clearing the\n",
      "    Axes and/or Figure.\n",
      "  hld = axis.ishold();\n",
      "/Users/abhishekjindal/Desktop/UCI_courses/Fall_2018/CS178/MachineLearningDiscussions/week4/mltools/plot.py:43: MatplotlibDeprecationWarning: pyplot.hold is deprecated.\n",
      "    Future behavior will be consistent with the long-time default:\n",
      "    plot commands add elements without first clearing the\n",
      "    Axes and/or Figure.\n",
      "  axis.hold(True);\n",
      "/Users/abhishekjindal/anaconda3/lib/python3.6/site-packages/matplotlib/__init__.py:917: UserWarning: axes.hold is deprecated. Please remove it from your matplotlibrc and/or style files.\n",
      "  warnings.warn(self.msg_depr_set % key)\n",
      "/Users/abhishekjindal/anaconda3/lib/python3.6/site-packages/matplotlib/rcsetup.py:152: UserWarning: axes.hold is deprecated, will be removed in 3.0\n",
      "  warnings.warn(\"axes.hold is deprecated, will be removed in 3.0\")\n",
      "/Users/abhishekjindal/Desktop/UCI_courses/Fall_2018/CS178/MachineLearningDiscussions/week4/mltools/plot.py:64: MatplotlibDeprecationWarning: pyplot.hold is deprecated.\n",
      "    Future behavior will be consistent with the long-time default:\n",
      "    plot commands add elements without first clearing the\n",
      "    Axes and/or Figure.\n",
      "  axis.axis(ax); axis.hold(hld)\n"
     ]
    },
    {
     "data": {
      "image/png": "[encoded data removed]",
      "text/plain": [
       "<matplotlib.figure.Figure at 0x10c4dc978>"
      ]
     },
     "metadata": {
      "needs_background": "light"
     },
     "output_type": "display_data"
    }
   ],
   "source": [
    "lc2_data = np.genfromtxt('data/lc2_data.txt', delimiter=None)\n",
    "X, Y = lc2_data[:, :-1], lc2_data[:, -1]\n",
    "\n",
    "Y[np.where(Y == -1)[0]] = 0\n",
    "ml.plotClassify2D(None, X, Y)"
   ]
  },
  {
   "cell_type": "markdown",
   "metadata": {},
   "source": [
    "## Logistic MSE Objective/Cost Function\n",
    "The objective function for the Logistic MSE is: $$J(\\theta) = \\frac{1}{m}\\sum_i (\\sigma(\\theta x^i) - y^i)^2$$\n",
    "\n",
    "So let's code it up."
   ]
  },
  {
   "cell_type": "code",
   "execution_count": 3,
   "metadata": {},
   "outputs": [],
   "source": [
    "def add_const(X):\n",
    "    \"\"\"Adding constant intercept to data. \"\"\"\n",
    "    return np.hstack([np.ones([X.shape[0], 1]), X])\n",
    "\n",
    "def sigmoid(z):\n",
    "    \"\"\"Sigmoid function. \"\"\"\n",
    "    return 1. / (1 + np.exp(-z))\n",
    "\n",
    "def response(x, theta):\n",
    "    \"\"\"Inner product of theta x\"\"\"\n",
    "    return np.dot(x, theta)\n",
    "\n",
    "def sig_pred(x, theta):\n",
    "    \"\"\"Returns the class according to the threshold 0.5\"\"\"\n",
    "    f_vals = sigmoid(response(x, theta))\n",
    "    f_vals[f_vals >= .5] = 1\n",
    "    f_vals[f_vals < .5] = 0\n",
    "\n",
    "    return f_vals\n",
    "\n",
    "def mse_err(x, y, theta):\n",
    "    \"\"\"Calculates MSE for Logistic Classifier. \"\"\"\n",
    "    return np.mean((sigmoid(response(x, theta)) - y)**2)"
   ]
  },
  {
   "cell_type": "markdown",
   "metadata": {},
   "source": [
    "Let's take it for a spin"
   ]
  },
  {
   "cell_type": "code",
   "execution_count": 4,
   "metadata": {},
   "outputs": [
    {
     "name": "stdout",
     "output_type": "stream",
     "text": [
      "0.49999830848061816\n"
     ]
    }
   ],
   "source": [
    "Xconst = add_const(X)\n",
    "theta = [5., 1., 1.]\n",
    "print(mse_err(Xconst, Y, theta))"
   ]
  },
  {
   "cell_type": "markdown",
   "metadata": {},
   "source": [
    "## Training the Model\n",
    "\n",
    "Given paremters $\\theta$ and a cost function $J(\\theta)$, the gradient descent update is:\n",
    "\n",
    "$$\\theta = \\theta - \\alpha \\nabla_{\\theta} J (\\theta)$$\n",
    "\n",
    "So all we need is to learn how to do $$\\nabla_{\\theta} J (\\theta)$$\n",
    "\n",
    "From the classes slides we already know that:\n",
    "\n",
    "$$\\partial J (\\theta) = \\frac{1}{m} \\sum_i 2(\\sigma(\\theta x^i) - y^i) \\; \\partial \\sigma(\\theta x^i) \\; x^i$$ \n",
    "\n",
    "and that $$\\partial \\sigma(z) = \\sigma(z) (1 - \\sigma(z))$$"
   ]
  },
  {
   "cell_type": "markdown",
   "metadata": {},
   "source": [
    "Gradient calculation step by step"
   ]
  },
  {
   "cell_type": "code",
   "execution_count": 5,
   "metadata": {
    "scrolled": true
   },
   "outputs": [],
   "source": [
    "error = sigmoid(response(Xconst, theta)) - Y"
   ]
  },
  {
   "cell_type": "code",
   "execution_count": 6,
   "metadata": {},
   "outputs": [],
   "source": [
    "sig_resp = sigmoid(response(Xconst, theta))\n",
    "der_sigmoid = sig_resp * (1 - sig_resp)"
   ]
  },
  {
   "cell_type": "code",
   "execution_count": 7,
   "metadata": {},
   "outputs": [],
   "source": [
    "tmp = error * der_sigmoid"
   ]
  },
  {
   "cell_type": "code",
   "execution_count": 8,
   "metadata": {},
   "outputs": [],
   "source": [
    "grad_vals = np.reshape(tmp, [-1, 1]) * Xconst "
   ]
  },
  {
   "cell_type": "code",
   "execution_count": 9,
   "metadata": {},
   "outputs": [
    {
     "data": {
      "text/plain": [
       "(98, 3)"
      ]
     },
     "execution_count": 9,
     "metadata": {},
     "output_type": "execute_result"
    }
   ],
   "source": [
    "grad_vals.shape"
   ]
  },
  {
   "cell_type": "code",
   "execution_count": 10,
   "metadata": {},
   "outputs": [],
   "source": [
    "gradient = np.mean(grad_vals, axis=0)\n",
    "# Notice that I ignored the 2. It's totally ok to do that."
   ]
  },
  {
   "cell_type": "markdown",
   "metadata": {},
   "source": [
    "## Important note: Your gradient needs to be in the shape of the parameters. So in this case 3 features of the theta"
   ]
  },
  {
   "cell_type": "code",
   "execution_count": 11,
   "metadata": {},
   "outputs": [
    {
     "data": {
      "text/plain": [
       "array([8.45756408e-07, 4.09379546e-06, 2.73010603e-06])"
      ]
     },
     "execution_count": 11,
     "metadata": {},
     "output_type": "execute_result"
    }
   ],
   "source": [
    "gradient"
   ]
  },
  {
   "cell_type": "code",
   "execution_count": 12,
   "metadata": {},
   "outputs": [],
   "source": [
    "def mse_grad(Xconst, Y, theta):\n",
    "    \"\"\"Calculates the Logistic MSE Gradient. \"\"\"\n",
    "    f_val = sigmoid(response(Xconst, theta))\n",
    "    error = f_val - Y\n",
    "    der_sigmoid = f_val * (1 - f_val)\n",
    "    \n",
    "    grad_vals =  np.reshape(error * der_sigmoid, [-1, 1]) * Xconst \n",
    "    \n",
    "    return np.mean(grad_vals, axis=0)"
   ]
  },
  {
   "cell_type": "code",
   "execution_count": 13,
   "metadata": {},
   "outputs": [
    {
     "name": "stdout",
     "output_type": "stream",
     "text": [
      "[8.45756408e-07 4.09379546e-06 2.73010603e-06]\n"
     ]
    }
   ],
   "source": [
    "print(mse_grad(Xconst, Y, theta))"
   ]
  },
  {
   "cell_type": "markdown",
   "metadata": {},
   "source": [
    "## Train Function"
   ]
  },
  {
   "cell_type": "code",
   "execution_count": 14,
   "metadata": {},
   "outputs": [],
   "source": [
    "def train(X, Y, theta, a=0.05, tol=1e-3, max_iters=100):\n",
    "    \"\"\"Trains the model and returns an array with the error at each iteration. \"\"\"\n",
    "    # In this version we assume we get the regular X as an input\n",
    "    Xconst = add_const(X)\n",
    "    \n",
    "    J_err = [np.inf]\n",
    "    for i in range(max_iters):\n",
    "        # Updating the theta\n",
    "        theta -= a * mse_grad(Xconst, Y, theta)\n",
    "        \n",
    "        # Computing the new error\n",
    "        error = mse_err(Xconst, Y, theta)\n",
    "        J_err.append(error)\n",
    "        \n",
    "        # Checking for stopping conditions. Notice that this time I'm forcing at least\n",
    "        # 10 iterations.\n",
    "        if i > 10 and np.abs(J_err[-2] - J_err[-1]) < tol:\n",
    "            break\n",
    "        \n",
    "    return theta, J_err "
   ]
  },
  {
   "cell_type": "code",
   "execution_count": 15,
   "metadata": {},
   "outputs": [],
   "source": [
    "theta = np.array([-5., 1., 0.])\n",
    "_, err = train(X, Y, theta)"
   ]
  },
  {
   "cell_type": "code",
   "execution_count": 16,
   "metadata": {},
   "outputs": [
    {
     "data": {
      "image/png": "[encoded data removed]",
      "text/plain": [
       "<matplotlib.figure.Figure at 0x10e66e0b8>"
      ]
     },
     "metadata": {
      "needs_background": "light"
     },
     "output_type": "display_data"
    }
   ],
   "source": [
    "plt.plot(err)\n",
    "plt.show()"
   ]
  },
  {
   "cell_type": "code",
   "execution_count": 17,
   "metadata": {},
   "outputs": [],
   "source": [
    "from mltools.base import classifier\n",
    "class LogisticMSE(classifier):\n",
    "    def __init__(self, theta=None):\n",
    "        self.theta = theta\n",
    "\n",
    "    def add_const(self, X):\n",
    "        return np.hstack([np.ones([X.shape[0], 1]), X])        \n",
    "        \n",
    "    # Main functions\n",
    "    def sigmoid(self, x):\n",
    "        return 1. / (1 + np.exp(-x))    \n",
    "\n",
    "    def response(self, x):\n",
    "        return np.dot(x, self.theta)\n",
    "    \n",
    "    def sig_pred(self, x):\n",
    "        f_vals = self.sigmoid(self.response(x))\n",
    "        f_vals[f_vals >= .5] = 1\n",
    "        f_vals[f_vals < .5] = 0\n",
    "\n",
    "        return f_vals    \n",
    "    \n",
    "    def predict(self, X):\n",
    "        Xconst = np.atleast_2d(X)\n",
    "        if Xconst.shape[1] == self.theta.shape[0] - 1:\n",
    "            Xconst = self.add_const(Xconst)\n",
    "        \n",
    "        return self.sig_pred(Xconst)\n",
    "\n",
    "    def mse_err(self, x, y):\n",
    "        \"\"\"Calculate mse error for logistic regression. \"\"\"\n",
    "        return np.mean((self.sigmoid(self.response(x)) - y)**2)    \n",
    "    \n",
    "    def mse_grad(self, Xconst, Y):\n",
    "        \"\"\"Calculate gradient of loss/cost for logistic MSE. \"\"\"\n",
    "        f_val = self.sigmoid(self.response(Xconst))\n",
    "        error = f_val - Y\n",
    "        der_sigmoid = f_val * ( 1 - f_val )\n",
    "\n",
    "        tmp = error * der_sigmoid\n",
    "        derivative_sum = np.reshape(tmp, [-1, 1]) * Xconst\n",
    "\n",
    "        return np.mean(derivative_sum, axis=0)    \n",
    "    \n",
    "    def train(self, X, Y, a=0.01, tol=1e-3, max_iters=100):\n",
    "        \"\"\"Trains the model and returns an array with the error at each iteration. \"\"\"\n",
    "        # In this version we assume we get the regular X as an input\n",
    "        Xconst = self.add_const(X)\n",
    "        if self.theta is None:\n",
    "            print('Initializing theta')\n",
    "            self.theta = Xconst[5]\n",
    "#             self.theta = np.random.rand(Xconst.shape[1])        \n",
    "        \n",
    "        J_err = [np.inf]\n",
    "        for i in range(max_iters):\n",
    "            # Updating the theta\n",
    "            self.theta -= a * self.mse_grad(Xconst, Y)\n",
    "            \n",
    "            # Computing the new error\n",
    "            error = self.mse_err(Xconst, Y)\n",
    "            J_err.append(error)\n",
    "            \n",
    "            # Checking for stopping conditions. Notice that this time I'm forcing at least\n",
    "            # 10 iterations.\n",
    "            if i > 10 and np.abs(J_err[-2] - J_err[-1]) < tol:\n",
    "                break\n",
    "        \n",
    "        print(\"Error at end of iteration {0} is {1}\".format(i, J_err[-1]))   \n",
    "        return J_err"
   ]
  },
  {
   "cell_type": "code",
   "execution_count": 18,
   "metadata": {},
   "outputs": [
    {
     "data": {
      "image/png": "[encoded data removed]",
      "text/plain": [
       "<matplotlib.figure.Figure at 0x10e6aeb70>"
      ]
     },
     "metadata": {
      "needs_background": "light"
     },
     "output_type": "display_data"
    }
   ],
   "source": [
    "lc = LogisticMSE(theta=np.array([-5., 1., 0.]))\n",
    "ml.plotClassify2D(lc, X, Y)"
   ]
  },
  {
   "cell_type": "code",
   "execution_count": 19,
   "metadata": {
    "scrolled": true
   },
   "outputs": [
    {
     "name": "stdout",
     "output_type": "stream",
     "text": [
      "Error at end of iteration 11 is 0.059522864152493894\n"
     ]
    },
    {
     "data": {
      "image/png": "[encoded data removed]",
      "text/plain": [
       "<matplotlib.figure.Figure at 0x10e5f2cc0>"
      ]
     },
     "metadata": {
      "needs_background": "light"
     },
     "output_type": "display_data"
    }
   ],
   "source": [
    "J_err = lc.train(X, Y, a=0.1, max_iters=100)\n",
    "ml.plotClassify2D(lc, X, Y)"
   ]
  },
  {
   "cell_type": "markdown",
   "metadata": {},
   "source": [
    "## Interactive Plotting\n",
    "For those of you who are going to run the code from a notebook and want to still see an interactive plotting you'll have to change the code a little bit. \n",
    "\n",
    "The simplest way to do it is to use the IPython disply in the following way."
   ]
  },
  {
   "cell_type": "code",
   "execution_count": null,
   "metadata": {
    "scrolled": true
   },
   "outputs": [],
   "source": [
    "from IPython import display\n",
    "for i in range(2, len(J_err)):\n",
    "    plt.figure(1)\n",
    "    plt.plot(J_err[:i], 'k-', lw=3)\n",
    "    plt.draw()\n",
    "    \n",
    "    # Waiting on either an input or time sleep.\n",
    "    _ = raw_input()\n",
    "    \n",
    "    # Just add this to the original code where you think it should go :)\n",
    "    display.clear_output()\n",
    "    display.display(plt.gcf())    "
   ]
  },
  {
   "cell_type": "code",
   "execution_count": null,
   "metadata": {},
   "outputs": [],
   "source": []
  }
 ],
 "metadata": {
  "kernelspec": {
   "display_name": "Python 3",
   "language": "python",
   "name": "python3"
  },
  "language_info": {
   "codemirror_mode": {
    "name": "ipython",
    "version": 3
   },
   "file_extension": ".py",
   "mimetype": "text/x-python",
   "name": "python",
   "nbconvert_exporter": "python",
   "pygments_lexer": "ipython3",
   "version": "3.6.6"
  }
 },
 "nbformat": 4,
 "nbformat_minor": 2
}
