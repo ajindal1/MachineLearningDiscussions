{
 "cells": [
  {
   "cell_type": "markdown",
   "metadata": {},
   "source": [
    "# Multiclass Perceptron\n",
    "In the previous discussion we've gone over a perceptron with only 2 classes. In this notebook we'll show how it can work on multiple classes, following the slides from the lecture."
   ]
  },
  {
   "cell_type": "code",
   "execution_count": 1,
   "metadata": {},
   "outputs": [],
   "source": [
    "# Import all required libraries\n",
    "from __future__ import division # For python 2.*\n",
    "\n",
    "import numpy as np\n",
    "import matplotlib.pyplot as plt\n",
    "import mltools as ml\n",
    "\n",
    "np.random.seed(0)\n",
    "%matplotlib inline"
   ]
  },
  {
   "cell_type": "markdown",
   "metadata": {},
   "source": [
    "# Data Sampling"
   ]
  },
  {
   "cell_type": "code",
   "execution_count": 2,
   "metadata": {},
   "outputs": [],
   "source": [
    "x_0 = np.random.normal(loc=[-4, 2], scale=0.5, size=(100, 2))\n",
    "x_1 = np.random.normal(loc=[-4, -3], scale=0.5, size=(100, 2))\n",
    "x_2 = np.random.normal(loc=[4, 1], scale=0.5, size=(100, 2))\n",
    "x_3 = np.random.normal(loc=[5, -2], scale=0.5, size=(100, 2))\n",
    "\n",
    "X = np.vstack([x_0, x_1, x_2, x_3])\n",
    "Y = np.ones(X.shape[0], dtype=np.intc)\n",
    "Y[:100] = 0\n",
    "Y[100:200] = 1\n",
    "Y[200:300] = 2\n",
    "Y[300:] = 3"
   ]
  },
  {
   "cell_type": "code",
   "execution_count": 3,
   "metadata": {},
   "outputs": [
    {
     "name": "stderr",
     "output_type": "stream",
     "text": [
      "/Users/abhishekjindal/Desktop/UCI_courses/Fall_2018/CS178/MachineLearningDiscussions/week4/mltools/plot.py:42: MatplotlibDeprecationWarning: pyplot.hold is deprecated.\n",
      "    Future behavior will be consistent with the long-time default:\n",
      "    plot commands add elements without first clearing the\n",
      "    Axes and/or Figure.\n",
      "  hld = axis.ishold();\n",
      "/Users/abhishekjindal/Desktop/UCI_courses/Fall_2018/CS178/MachineLearningDiscussions/week4/mltools/plot.py:43: MatplotlibDeprecationWarning: pyplot.hold is deprecated.\n",
      "    Future behavior will be consistent with the long-time default:\n",
      "    plot commands add elements without first clearing the\n",
      "    Axes and/or Figure.\n",
      "  axis.hold(True);\n",
      "/Users/abhishekjindal/anaconda3/lib/python3.6/site-packages/matplotlib/__init__.py:917: UserWarning: axes.hold is deprecated. Please remove it from your matplotlibrc and/or style files.\n",
      "  warnings.warn(self.msg_depr_set % key)\n",
      "/Users/abhishekjindal/anaconda3/lib/python3.6/site-packages/matplotlib/rcsetup.py:152: UserWarning: axes.hold is deprecated, will be removed in 3.0\n",
      "  warnings.warn(\"axes.hold is deprecated, will be removed in 3.0\")\n",
      "/Users/abhishekjindal/Desktop/UCI_courses/Fall_2018/CS178/MachineLearningDiscussions/week4/mltools/plot.py:64: MatplotlibDeprecationWarning: pyplot.hold is deprecated.\n",
      "    Future behavior will be consistent with the long-time default:\n",
      "    plot commands add elements without first clearing the\n",
      "    Axes and/or Figure.\n",
      "  axis.axis(ax); axis.hold(hld)\n"
     ]
    },
    {
     "data": {
      "image/png": "[encoded data removed]",
      "text/plain": [
       "<matplotlib.figure.Figure at 0x102956668>"
      ]
     },
     "metadata": {
      "needs_background": "light"
     },
     "output_type": "display_data"
    }
   ],
   "source": [
    "ml.plotClassify2D(None, X, Y)"
   ]
  },
  {
   "cell_type": "code",
   "execution_count": 4,
   "metadata": {},
   "outputs": [
    {
     "name": "stdout",
     "output_type": "stream",
     "text": [
      "[0 1 2 3]\n"
     ]
    }
   ],
   "source": [
    "classes = np.unique(Y)\n",
    "print(classes)"
   ]
  },
  {
   "cell_type": "markdown",
   "metadata": {},
   "source": [
    "## Multiclass Preceptron Training Algorithm"
   ]
  },
  {
   "cell_type": "markdown",
   "metadata": {},
   "source": [
    "<img src = 'extras/multiclass.png'>"
   ]
  },
  {
   "cell_type": "markdown",
   "metadata": {},
   "source": [
    "One of the main differences is that now there is a $\\theta_c$ for each class. So in the algorithm above $\\theta$ is basically size $\\#Classes \\times \\#Features$. \n",
    "\n",
    "To find the class, instead of using the sign threshold on the response, we are looking for the class that maximizes the response.\n",
    "\n",
    "So let's adapt the code from the previous discussion to do this."
   ]
  },
  {
   "cell_type": "markdown",
   "metadata": {},
   "source": [
    "Let's add the const to the X and create the theta matrix."
   ]
  },
  {
   "cell_type": "code",
   "execution_count": 5,
   "metadata": {},
   "outputs": [],
   "source": [
    "# Like previous discussion\n",
    "def add_const(X):\n",
    "    return np.hstack([np.ones([X.shape[0], 1]), X])"
   ]
  },
  {
   "cell_type": "code",
   "execution_count": 6,
   "metadata": {},
   "outputs": [],
   "source": [
    "Xconst = add_const(X)\n",
    "theta = np.random.randn(classes.shape[0], Xconst.shape[1]) # Adding 1 for theta corresponding to bias term\n",
    "\n",
    "x_j, y_j = Xconst[5], Y[5]"
   ]
  },
  {
   "cell_type": "code",
   "execution_count": 7,
   "metadata": {},
   "outputs": [],
   "source": [
    "# The response is also the same, only we transpose the theta.\n",
    "def resp(x, theta):\n",
    "    return np.dot(x, theta.T)"
   ]
  },
  {
   "cell_type": "markdown",
   "metadata": {},
   "source": [
    "For the predict we need to find the class that maximizes the response. We can do this with np.argmax()."
   ]
  },
  {
   "cell_type": "code",
   "execution_count": 8,
   "metadata": {},
   "outputs": [],
   "source": [
    "def predict(x, theta):\n",
    "    r = resp(x, theta)\n",
    "    return np.argmax(np.atleast_2d(r), axis=1)\n",
    "\n",
    "# Error stays the same\n",
    "def pred_err(X, Y, theta):\n",
    "    \"\"\"Predicts that class for X and returns the error rate. \"\"\"\n",
    "    Yhat = predict(X, theta)\n",
    "    return np.mean(Yhat != Y)"
   ]
  },
  {
   "cell_type": "code",
   "execution_count": 9,
   "metadata": {},
   "outputs": [
    {
     "name": "stdout",
     "output_type": "stream",
     "text": [
      "Predicted class 3, True class is 0\n"
     ]
    }
   ],
   "source": [
    "pred_vals = predict(x_j, theta)\n",
    "print('Predicted class %d, True class is %d' % (pred_vals, y_j))"
   ]
  },
  {
   "cell_type": "markdown",
   "metadata": {},
   "source": [
    "## Learning Update"
   ]
  },
  {
   "cell_type": "code",
   "execution_count": 10,
   "metadata": {},
   "outputs": [],
   "source": [
    "a = 0.1\n",
    "y_j_hat = predict(x_j, theta)\n",
    "\n",
    "theta[y_j_hat] -= a * x_j\n",
    "theta[y_j] += a * x_j"
   ]
  },
  {
   "cell_type": "markdown",
   "metadata": {},
   "source": [
    "## Train method\n",
    "Using everything we coded so far, let's code the training method."
   ]
  },
  {
   "cell_type": "code",
   "execution_count": 11,
   "metadata": {},
   "outputs": [],
   "source": [
    "def train(X, Y, a=0.01, stop_tol=1e-8, max_iter=50):\n",
    "    Xconst = add_const(X)\n",
    "    m, n = Xconst.shape\n",
    "    c = np.unique(Y).shape[0]\n",
    "    \n",
    "    # Initializing theta\n",
    "    theta = np.random.rand(c, n)\n",
    "    \n",
    "    # The update loop\n",
    "    J_err = [np.inf]\n",
    "    for i in xrange(1, max_iter + 1):\n",
    "        for j in range(m):\n",
    "            x_j, y_j = Xconst[j], Y[j]\n",
    "            y_j_hat = predict(x_j, theta)\n",
    "            theta[y_j_hat] -= a * x_j\n",
    "            theta[y_j] += a * x_j\n",
    "        \n",
    "        curr_err = pred_err(Xconst, Y, theta)\n",
    "        J_err.append(curr_err)\n",
    "        \n",
    "        print('Error %.3f at iteration %d' % (J_err[-1], i))\n",
    "    \n",
    "    return theta, J_err"
   ]
  },
  {
   "cell_type": "markdown",
   "metadata": {},
   "source": [
    "## Multiclass Pereptron Object\n",
    "Let us put this all in a class MultiPerceptron. "
   ]
  },
  {
   "cell_type": "code",
   "execution_count": 12,
   "metadata": {},
   "outputs": [],
   "source": [
    "from mltools.base import classifier\n",
    "class MultiClassPerceptron(classifier):\n",
    "    def __init__(self, theta=None):\n",
    "        self.theta = theta\n",
    "        \n",
    "    def add_const(self, X):\n",
    "        return np.hstack([np.ones([X.shape[0], 1]), X])\n",
    "\n",
    "    def resp(self, x):\n",
    "        return np.dot(x, self.theta.T)    \n",
    "    \n",
    "    def predict(self, X):\n",
    "        \"\"\"Retruns class prediction for either single point or multiple points. \"\"\"\n",
    "        Xconst = np.atleast_2d(X)\n",
    "        \n",
    "        # Making sure it has the const, if not adding it.\n",
    "        if Xconst.shape[1] == self.theta.shape[1] - 1:\n",
    "            Xconst = self.add_const(Xconst)\n",
    "        \n",
    "        r = self.resp(Xconst)\n",
    "        return np.argmax(np.atleast_2d(r), axis=1)\n",
    "  \n",
    "    # Notice that we don't need the sign function (from Perceptron class) any longer\n",
    "#     def sign(self, vals):\n",
    "#         \"\"\"A sign version with breaking 0's as +1. \"\"\"\n",
    "#         return np.sign(vals + 1e-200)\n",
    "    \n",
    "    def pred_err(self, X, Y):\n",
    "        Yhat = self.predict(X)\n",
    "        return np.mean(Yhat != Y)\n",
    "\n",
    "    def train(self, X, Y, a=0.01, stop_tol=1e-8, max_iter=50):\n",
    "        # Start by adding a const\n",
    "        Xconst = self.add_const(X)\n",
    "\n",
    "        m, n = Xconst.shape\n",
    "        c = np.unique(Y).shape[0]\n",
    "        self.classes = np.unique(Y)\n",
    "        \n",
    "        # Making sure Theta is inititialized.\n",
    "        if self.theta is None:\n",
    "            self.theta = np.random.randn(c, n)\n",
    "\n",
    "        # The update loop\n",
    "        J_err = [np.inf]\n",
    "        for i in range(1, max_iter + 1):\n",
    "            for j in np.random.permutation(m):\n",
    "                x_j, y_j = Xconst[j], Y[j]\n",
    "                y_j_hat = self.predict(x_j)\n",
    "\n",
    "                self.theta[y_j_hat[0]] -= a * x_j\n",
    "                self.theta[y_j] += a * x_j\n",
    "                \n",
    "            curr_err = self.pred_err(Xconst, Y)\n",
    "            J_err.append(curr_err)\n",
    "\n",
    "        return J_err    "
   ]
  },
  {
   "cell_type": "markdown",
   "metadata": {},
   "source": [
    "Let's train and plot :)"
   ]
  },
  {
   "cell_type": "code",
   "execution_count": 13,
   "metadata": {},
   "outputs": [
    {
     "data": {
      "image/png": "[encoded data removed]",
      "text/plain": [
       "<matplotlib.figure.Figure at 0x102956710>"
      ]
     },
     "metadata": {
      "needs_background": "light"
     },
     "output_type": "display_data"
    }
   ],
   "source": [
    "model = MultiClassPerceptron()\n",
    "j_err = model.train(X, Y, a=.02, max_iter=50)\n",
    "ml.plotClassify2D(model, X, Y)"
   ]
  },
  {
   "cell_type": "markdown",
   "metadata": {},
   "source": [
    "## Bonus question\n",
    "In the plot below we have two classes. Let's assume that I want to have multiclass perceptron with 2 classes, what would theta have to be to separate them correctly?"
   ]
  },
  {
   "cell_type": "code",
   "execution_count": 14,
   "metadata": {},
   "outputs": [
    {
     "data": {
      "image/png": "[encoded data removed]",
      "text/plain": [
       "<matplotlib.figure.Figure at 0x10c7d41d0>"
      ]
     },
     "metadata": {
      "needs_background": "light"
     },
     "output_type": "display_data"
    }
   ],
   "source": [
    "x_0 = np.random.normal(loc=[-2, 2], scale=0.5, size=(100, 2))\n",
    "x_1 = np.random.normal(loc=[2, 2], scale=0.5, size=(100, 2))\n",
    "\n",
    "X = np.vstack([x_0, x_1])\n",
    "Y = np.ones(X.shape[0], dtype=np.intc)\n",
    "Y[:100] = 0\n",
    "Y[100:200] = 1\n",
    "\n",
    "ml.plotClassify2D(None, X, Y)"
   ]
  },
  {
   "cell_type": "code",
   "execution_count": null,
   "metadata": {},
   "outputs": [],
   "source": [
    "theta = ????   # Fill in the code and run\n",
    "model = MultiClassPerceptron(theta)\n",
    "ml.plotClassify2D(model, X, Y)"
   ]
  },
  {
   "cell_type": "code",
   "execution_count": null,
   "metadata": {},
   "outputs": [],
   "source": []
  }
 ],
 "metadata": {
  "kernelspec": {
   "display_name": "Python 3",
   "language": "python",
   "name": "python3"
  },
  "language_info": {
   "codemirror_mode": {
    "name": "ipython",
    "version": 3
   },
   "file_extension": ".py",
   "mimetype": "text/x-python",
   "name": "python",
   "nbconvert_exporter": "python",
   "pygments_lexer": "ipython3",
   "version": "3.6.6"
  }
 },
 "nbformat": 4,
 "nbformat_minor": 2
}
